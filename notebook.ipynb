{
 "cells": [
  {
   "cell_type": "code",
   "execution_count": 17,
   "id": "f3354e83-e20a-4c8e-a080-e6ee37c167b6",
   "metadata": {},
   "outputs": [],
   "source": [
    "import pandas as pd\n",
    "from datetime import datetime\n",
    "import numpy as np"
   ]
  },
  {
   "cell_type": "code",
   "execution_count": 2,
   "id": "d6464753-459d-4886-95fd-578fe616b57b",
   "metadata": {},
   "outputs": [],
   "source": [
    "df = pd.read_csv(r\"C:\\Users\\USER\\Downloads\\retail_transaction.csv\")"
   ]
  },
  {
   "cell_type": "code",
   "execution_count": 3,
   "id": "65bd4b09-24cd-48a1-a94f-ee139aec9d0d",
   "metadata": {},
   "outputs": [
    {
     "data": {
      "text/html": [
       "<div>\n",
       "<style scoped>\n",
       "    .dataframe tbody tr th:only-of-type {\n",
       "        vertical-align: middle;\n",
       "    }\n",
       "\n",
       "    .dataframe tbody tr th {\n",
       "        vertical-align: top;\n",
       "    }\n",
       "\n",
       "    .dataframe thead th {\n",
       "        text-align: right;\n",
       "    }\n",
       "</style>\n",
       "<table border=\"1\" class=\"dataframe\">\n",
       "  <thead>\n",
       "    <tr style=\"text-align: right;\">\n",
       "      <th></th>\n",
       "      <th>CustomerID</th>\n",
       "      <th>ProductID</th>\n",
       "      <th>Quantity</th>\n",
       "      <th>Price</th>\n",
       "      <th>TransactionDate</th>\n",
       "      <th>PaymentMethod</th>\n",
       "      <th>ProductCategory</th>\n",
       "      <th>DiscountApplied(%)</th>\n",
       "    </tr>\n",
       "  </thead>\n",
       "  <tbody>\n",
       "    <tr>\n",
       "      <th>0</th>\n",
       "      <td>169</td>\n",
       "      <td>B</td>\n",
       "      <td>7.0</td>\n",
       "      <td>76.15</td>\n",
       "      <td>1/31/2024 10:50</td>\n",
       "      <td>Cash</td>\n",
       "      <td>Clothing</td>\n",
       "      <td>14.2</td>\n",
       "    </tr>\n",
       "    <tr>\n",
       "      <th>1</th>\n",
       "      <td>213</td>\n",
       "      <td>C</td>\n",
       "      <td>4.0</td>\n",
       "      <td>85.59</td>\n",
       "      <td>6/26/2023 21:13</td>\n",
       "      <td>Credit Card</td>\n",
       "      <td>Home Decor</td>\n",
       "      <td>0.5</td>\n",
       "    </tr>\n",
       "    <tr>\n",
       "      <th>2</th>\n",
       "      <td>315</td>\n",
       "      <td>C</td>\n",
       "      <td>4.0</td>\n",
       "      <td>94.33</td>\n",
       "      <td>8/18/2023 07:01</td>\n",
       "      <td>Cash</td>\n",
       "      <td>Electronics</td>\n",
       "      <td>20.0</td>\n",
       "    </tr>\n",
       "    <tr>\n",
       "      <th>3</th>\n",
       "      <td>442</td>\n",
       "      <td>B</td>\n",
       "      <td>6.0</td>\n",
       "      <td>81.00</td>\n",
       "      <td>8/30/2023 03:37</td>\n",
       "      <td>Debit Card</td>\n",
       "      <td>Home Decor</td>\n",
       "      <td>16.0</td>\n",
       "    </tr>\n",
       "    <tr>\n",
       "      <th>4</th>\n",
       "      <td>587</td>\n",
       "      <td>B</td>\n",
       "      <td>1.0</td>\n",
       "      <td>45.68</td>\n",
       "      <td>9/14/2023 23:34</td>\n",
       "      <td>Credit Card</td>\n",
       "      <td>Home Decor</td>\n",
       "      <td>10.3</td>\n",
       "    </tr>\n",
       "  </tbody>\n",
       "</table>\n",
       "</div>"
      ],
      "text/plain": [
       "   CustomerID ProductID  Quantity  Price  TransactionDate PaymentMethod  \\\n",
       "0         169         B       7.0  76.15  1/31/2024 10:50          Cash   \n",
       "1         213         C       4.0  85.59  6/26/2023 21:13   Credit Card   \n",
       "2         315         C       4.0  94.33  8/18/2023 07:01          Cash   \n",
       "3         442         B       6.0  81.00  8/30/2023 03:37    Debit Card   \n",
       "4         587         B       1.0  45.68  9/14/2023 23:34   Credit Card   \n",
       "\n",
       "  ProductCategory  DiscountApplied(%)  \n",
       "0        Clothing                14.2  \n",
       "1      Home Decor                 0.5  \n",
       "2     Electronics                20.0  \n",
       "3      Home Decor                16.0  \n",
       "4      Home Decor                10.3  "
      ]
     },
     "execution_count": 3,
     "metadata": {},
     "output_type": "execute_result"
    }
   ],
   "source": [
    "df.head()"
   ]
  },
  {
   "cell_type": "code",
   "execution_count": 12,
   "id": "d8050751-e26d-452a-af14-2077e3f71036",
   "metadata": {},
   "outputs": [
    {
     "name": "stdout",
     "output_type": "stream",
     "text": [
      "<class 'pandas.core.frame.DataFrame'>\n",
      "RangeIndex: 1167 entries, 0 to 1166\n",
      "Data columns (total 10 columns):\n",
      " #   Column              Non-Null Count  Dtype         \n",
      "---  ------              --------------  -----         \n",
      " 0   CustomerID          1167 non-null   int64         \n",
      " 1   ProductID           1163 non-null   object        \n",
      " 2   Quantity            1165 non-null   float64       \n",
      " 3   Price               1155 non-null   float64       \n",
      " 4   TransactionDate     1167 non-null   datetime64[ns]\n",
      " 5   PaymentMethod       1162 non-null   object        \n",
      " 6   ProductCategory     1163 non-null   object        \n",
      " 7   DiscountApplied(%)  1162 non-null   float64       \n",
      " 8   Month               1167 non-null   int32         \n",
      " 9   Year                1167 non-null   int32         \n",
      "dtypes: datetime64[ns](1), float64(3), int32(2), int64(1), object(3)\n",
      "memory usage: 82.2+ KB\n"
     ]
    }
   ],
   "source": [
    "df.info()"
   ]
  },
  {
   "cell_type": "code",
   "execution_count": 19,
   "id": "0f94baf6-d77f-441e-a746-664ed98b22f4",
   "metadata": {},
   "outputs": [
    {
     "data": {
      "text/plain": [
       "(1167, 10)"
      ]
     },
     "execution_count": 19,
     "metadata": {},
     "output_type": "execute_result"
    }
   ],
   "source": [
    "df.shape"
   ]
  },
  {
   "cell_type": "code",
   "execution_count": 7,
   "id": "de75cd3f-2674-411c-be98-8a4b708375f1",
   "metadata": {},
   "outputs": [],
   "source": [
    "\n",
    "df[\"TransactionDate\"] = pd.to_datetime(df[\"TransactionDate\"])"
   ]
  },
  {
   "cell_type": "code",
   "execution_count": 11,
   "id": "f856f531-2d74-43b7-acd0-5cfe3042bce5",
   "metadata": {},
   "outputs": [],
   "source": [
    "df[\"Month\"] = df[\"TransactionDate\"].dt.month\n",
    "df[\"Year\"] = df[\"TransactionDate\"].dt.year"
   ]
  },
  {
   "cell_type": "code",
   "execution_count": 13,
   "id": "80c8f494-c7a2-4a33-876f-a12a7a6060f2",
   "metadata": {},
   "outputs": [
    {
     "data": {
      "text/plain": [
       "array([2024, 2023])"
      ]
     },
     "execution_count": 13,
     "metadata": {},
     "output_type": "execute_result"
    }
   ],
   "source": [
    "df.Year.unique()"
   ]
  },
  {
   "cell_type": "code",
   "execution_count": 18,
   "id": "ef8f5775-0dc6-48cf-976a-0803f0ba2c96",
   "metadata": {},
   "outputs": [
    {
     "data": {
      "text/plain": [
       "array([ 1,  2,  3,  4,  5,  6,  7,  8,  9, 10, 11, 12])"
      ]
     },
     "execution_count": 18,
     "metadata": {},
     "output_type": "execute_result"
    }
   ],
   "source": [
    "np.sort(df.Month.unique())"
   ]
  },
  {
   "cell_type": "code",
   "execution_count": 20,
   "id": "ed29fc5b-9a48-455b-afd8-727f96882517",
   "metadata": {},
   "outputs": [
    {
     "data": {
      "text/html": [
       "<div>\n",
       "<style scoped>\n",
       "    .dataframe tbody tr th:only-of-type {\n",
       "        vertical-align: middle;\n",
       "    }\n",
       "\n",
       "    .dataframe tbody tr th {\n",
       "        vertical-align: top;\n",
       "    }\n",
       "\n",
       "    .dataframe thead th {\n",
       "        text-align: right;\n",
       "    }\n",
       "</style>\n",
       "<table border=\"1\" class=\"dataframe\">\n",
       "  <thead>\n",
       "    <tr style=\"text-align: right;\">\n",
       "      <th></th>\n",
       "      <th>CustomerID</th>\n",
       "      <th>ProductID</th>\n",
       "      <th>Quantity</th>\n",
       "      <th>Price</th>\n",
       "      <th>TransactionDate</th>\n",
       "      <th>PaymentMethod</th>\n",
       "      <th>ProductCategory</th>\n",
       "      <th>DiscountApplied(%)</th>\n",
       "      <th>Month</th>\n",
       "      <th>Year</th>\n",
       "    </tr>\n",
       "  </thead>\n",
       "  <tbody>\n",
       "    <tr>\n",
       "      <th>0</th>\n",
       "      <td>169</td>\n",
       "      <td>B</td>\n",
       "      <td>7.0</td>\n",
       "      <td>76.15</td>\n",
       "      <td>2024-01-31 10:50:00</td>\n",
       "      <td>Cash</td>\n",
       "      <td>Clothing</td>\n",
       "      <td>14.2</td>\n",
       "      <td>1</td>\n",
       "      <td>2024</td>\n",
       "    </tr>\n",
       "    <tr>\n",
       "      <th>1</th>\n",
       "      <td>213</td>\n",
       "      <td>C</td>\n",
       "      <td>4.0</td>\n",
       "      <td>85.59</td>\n",
       "      <td>2023-06-26 21:13:00</td>\n",
       "      <td>Credit Card</td>\n",
       "      <td>Home Decor</td>\n",
       "      <td>0.5</td>\n",
       "      <td>6</td>\n",
       "      <td>2023</td>\n",
       "    </tr>\n",
       "    <tr>\n",
       "      <th>2</th>\n",
       "      <td>315</td>\n",
       "      <td>C</td>\n",
       "      <td>4.0</td>\n",
       "      <td>94.33</td>\n",
       "      <td>2023-08-18 07:01:00</td>\n",
       "      <td>Cash</td>\n",
       "      <td>Electronics</td>\n",
       "      <td>20.0</td>\n",
       "      <td>8</td>\n",
       "      <td>2023</td>\n",
       "    </tr>\n",
       "    <tr>\n",
       "      <th>3</th>\n",
       "      <td>442</td>\n",
       "      <td>B</td>\n",
       "      <td>6.0</td>\n",
       "      <td>81.00</td>\n",
       "      <td>2023-08-30 03:37:00</td>\n",
       "      <td>Debit Card</td>\n",
       "      <td>Home Decor</td>\n",
       "      <td>16.0</td>\n",
       "      <td>8</td>\n",
       "      <td>2023</td>\n",
       "    </tr>\n",
       "    <tr>\n",
       "      <th>4</th>\n",
       "      <td>587</td>\n",
       "      <td>B</td>\n",
       "      <td>1.0</td>\n",
       "      <td>45.68</td>\n",
       "      <td>2023-09-14 23:34:00</td>\n",
       "      <td>Credit Card</td>\n",
       "      <td>Home Decor</td>\n",
       "      <td>10.3</td>\n",
       "      <td>9</td>\n",
       "      <td>2023</td>\n",
       "    </tr>\n",
       "  </tbody>\n",
       "</table>\n",
       "</div>"
      ],
      "text/plain": [
       "   CustomerID ProductID  Quantity  Price     TransactionDate PaymentMethod  \\\n",
       "0         169         B       7.0  76.15 2024-01-31 10:50:00          Cash   \n",
       "1         213         C       4.0  85.59 2023-06-26 21:13:00   Credit Card   \n",
       "2         315         C       4.0  94.33 2023-08-18 07:01:00          Cash   \n",
       "3         442         B       6.0  81.00 2023-08-30 03:37:00    Debit Card   \n",
       "4         587         B       1.0  45.68 2023-09-14 23:34:00   Credit Card   \n",
       "\n",
       "  ProductCategory  DiscountApplied(%)  Month  Year  \n",
       "0        Clothing                14.2      1  2024  \n",
       "1      Home Decor                 0.5      6  2023  \n",
       "2     Electronics                20.0      8  2023  \n",
       "3      Home Decor                16.0      8  2023  \n",
       "4      Home Decor                10.3      9  2023  "
      ]
     },
     "execution_count": 20,
     "metadata": {},
     "output_type": "execute_result"
    }
   ],
   "source": [
    "##df.head()"
   ]
  },
  {
   "cell_type": "code",
   "execution_count": 26,
   "id": "c94a573f-8c92-4e59-9c1a-08f646a1268a",
   "metadata": {},
   "outputs": [
    {
     "data": {
      "text/plain": [
       "<Axes: xlabel='Month'>"
      ]
     },
     "execution_count": 26,
     "metadata": {},
     "output_type": "execute_result"
    },
    {
     "data": {
      "image/png": "[encoded data removed]",
      "text/plain": [
       "<Figure size 640x480 with 1 Axes>"
      ]
     },
     "metadata": {},
     "output_type": "display_data"
    }
   ],
   "source": [
    "df_sub = df.groupby(['Month'])['Price'].mean()\n",
    "df_sub"
   ]
  },
  {
   "cell_type": "code",
   "execution_count": null,
   "id": "84b5b771-cd48-4cb0-a025-89ee0746eabf",
   "metadata": {},
   "outputs": [],
   "source": []
  }
 ],
 "metadata": {
  "kernelspec": {
   "display_name": "Python 3 (ipykernel)",
   "language": "python",
   "name": "python3"
  },
  "language_info": {
   "codemirror_mode": {
    "name": "ipython",
    "version": 3
   },
   "file_extension": ".py",
   "mimetype": "text/x-python",
   "name": "python",
   "nbconvert_exporter": "python",
   "pygments_lexer": "ipython3",
   "version": "3.11.7"
  }
 },
 "nbformat": 4,
 "nbformat_minor": 5
}
